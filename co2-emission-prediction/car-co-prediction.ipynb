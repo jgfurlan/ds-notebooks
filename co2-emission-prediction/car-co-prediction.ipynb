{
 "cells": [
  {
   "cell_type": "markdown",
   "id": "e70320d2",
   "metadata": {
    "papermill": {
     "duration": 0.006173,
     "end_time": "2023-10-09T13:54:46.691864",
     "exception": false,
     "start_time": "2023-10-09T13:54:46.685691",
     "status": "completed"
    },
    "tags": []
   },
   "source": [
    "# EXPLORING AND MODELING FUEL CONSUMPTION DATASET\n",
    "\n",
    "\n",
    "## Understanding the Data\n",
    "\n",
    "### `FuelConsumption.csv`:\n",
    "We have downloaded a fuel consumption dataset, **`FuelConsumption.csv`**, which contains model-specific fuel consumption ratings and estimated carbon dioxide emissions for new light-duty vehicles for retail sale in Canada. [Dataset source](http://open.canada.ca/data/en/dataset/98f1a129-f628-4ce4-b24d-6f16bf24dd64?utm_medium=Exinfluencer&utm_source=Exinfluencer&utm_content=000026UJ&utm_term=10006555&utm_id=NA-SkillsNetwork-Channel-SkillsNetworkCoursesIBMDeveloperSkillsNetworkML0101ENSkillsNetwork1047-2023-01-01)\n",
    "\n",
    "- **MODELYEAR** e.g. 2014\n",
    "- **MAKE** e.g. Acura\n",
    "- **MODEL** e.g. ILX\n",
    "- **VEHICLE CLASS** e.g. SUV\n",
    "- **ENGINE SIZE** e.g. 4.7\n",
    "- **CYLINDERS** e.g 6\n",
    "- **TRANSMISSION** e.g. A6\n",
    "- **FUEL CONSUMPTION in CITY(L/100 km)** e.g. 9.9\n",
    "- **FUEL CONSUMPTION in HWY (L/100 km)** e.g. 8.9\n",
    "- **FUEL CONSUMPTION COMB (L/100 km)** e.g. 9.2\n",
    "- **CO2 EMISSIONS (g/km)** e.g. 182   --> low --> 0\n",
    "\n",
    "### <b>GOAL:</b> Explore and create a ML model to predict CO² emission."
   ]
  },
  {
   "cell_type": "markdown",
   "id": "ab2d836f",
   "metadata": {
    "papermill": {
     "duration": 0.005855,
     "end_time": "2023-10-09T13:54:46.703667",
     "exception": false,
     "start_time": "2023-10-09T13:54:46.697812",
     "status": "completed"
    },
    "tags": []
   },
   "source": [
    "### Importing necessary libraries and dataset."
   ]
  },
  {
   "cell_type": "code",
   "execution_count": 1,
   "id": "36c039c2",
   "metadata": {
    "execution": {
     "iopub.execute_input": "2023-10-09T13:54:46.717201Z",
     "iopub.status.busy": "2023-10-09T13:54:46.716865Z",
     "iopub.status.idle": "2023-10-09T13:54:47.096813Z",
     "shell.execute_reply": "2023-10-09T13:54:47.095934Z"
    },
    "papermill": {
     "duration": 0.389721,
     "end_time": "2023-10-09T13:54:47.099140",
     "exception": false,
     "start_time": "2023-10-09T13:54:46.709419",
     "status": "completed"
    },
    "tags": []
   },
   "outputs": [],
   "source": [
    "import matplotlib.pyplot as plt\n",
    "import pandas as pd\n",
    "import pylab as pl\n",
    "import numpy as np\n",
    "import warnings\n",
    "warnings.filterwarnings('ignore')\n",
    "%matplotlib inline"
   ]
  },
  {
   "cell_type": "code",
   "execution_count": 2,
   "id": "37956b58",
   "metadata": {
    "execution": {
     "iopub.execute_input": "2023-10-09T13:54:47.113088Z",
     "iopub.status.busy": "2023-10-09T13:54:47.112468Z",
     "iopub.status.idle": "2023-10-09T13:54:47.116141Z",
     "shell.execute_reply": "2023-10-09T13:54:47.115450Z"
    },
    "papermill": {
     "duration": 0.012871,
     "end_time": "2023-10-09T13:54:47.118005",
     "exception": false,
     "start_time": "2023-10-09T13:54:47.105134",
     "status": "completed"
    },
    "tags": []
   },
   "outputs": [],
   "source": [
    "url = 'https://cf-courses-data.s3.us.cloud-object-storage.appdomain.cloud/IBMDeveloperSkillsNetwork-ML0101EN-SkillsNetwork/labs/Module%202/data/FuelConsumptionCo2.csv'"
   ]
  },
  {
   "cell_type": "code",
   "execution_count": 3,
   "id": "d3998d7b",
   "metadata": {
    "execution": {
     "iopub.execute_input": "2023-10-09T13:54:47.132106Z",
     "iopub.status.busy": "2023-10-09T13:54:47.130922Z",
     "iopub.status.idle": "2023-10-09T13:54:48.591166Z",
     "shell.execute_reply": "2023-10-09T13:54:48.590506Z"
    },
    "papermill": {
     "duration": 1.46966,
     "end_time": "2023-10-09T13:54:48.593445",
     "exception": false,
     "start_time": "2023-10-09T13:54:47.123785",
     "status": "completed"
    },
    "tags": []
   },
   "outputs": [
    {
     "data": {
      "text/html": [
       "<div>\n",
       "<style scoped>\n",
       "    .dataframe tbody tr th:only-of-type {\n",
       "        vertical-align: middle;\n",
       "    }\n",
       "\n",
       "    .dataframe tbody tr th {\n",
       "        vertical-align: top;\n",
       "    }\n",
       "\n",
       "    .dataframe thead th {\n",
       "        text-align: right;\n",
       "    }\n",
       "</style>\n",
       "<table border=\"1\" class=\"dataframe\">\n",
       "  <thead>\n",
       "    <tr style=\"text-align: right;\">\n",
       "      <th></th>\n",
       "      <th>MODELYEAR</th>\n",
       "      <th>MAKE</th>\n",
       "      <th>MODEL</th>\n",
       "      <th>VEHICLECLASS</th>\n",
       "      <th>ENGINESIZE</th>\n",
       "      <th>CYLINDERS</th>\n",
       "      <th>TRANSMISSION</th>\n",
       "      <th>FUELTYPE</th>\n",
       "      <th>FUELCONSUMPTION_CITY</th>\n",
       "      <th>FUELCONSUMPTION_HWY</th>\n",
       "      <th>FUELCONSUMPTION_COMB</th>\n",
       "      <th>FUELCONSUMPTION_COMB_MPG</th>\n",
       "      <th>CO2EMISSIONS</th>\n",
       "    </tr>\n",
       "  </thead>\n",
       "  <tbody>\n",
       "    <tr>\n",
       "      <th>0</th>\n",
       "      <td>2014</td>\n",
       "      <td>ACURA</td>\n",
       "      <td>ILX</td>\n",
       "      <td>COMPACT</td>\n",
       "      <td>2.0</td>\n",
       "      <td>4</td>\n",
       "      <td>AS5</td>\n",
       "      <td>Z</td>\n",
       "      <td>9.9</td>\n",
       "      <td>6.7</td>\n",
       "      <td>8.5</td>\n",
       "      <td>33</td>\n",
       "      <td>196</td>\n",
       "    </tr>\n",
       "    <tr>\n",
       "      <th>1</th>\n",
       "      <td>2014</td>\n",
       "      <td>ACURA</td>\n",
       "      <td>ILX</td>\n",
       "      <td>COMPACT</td>\n",
       "      <td>2.4</td>\n",
       "      <td>4</td>\n",
       "      <td>M6</td>\n",
       "      <td>Z</td>\n",
       "      <td>11.2</td>\n",
       "      <td>7.7</td>\n",
       "      <td>9.6</td>\n",
       "      <td>29</td>\n",
       "      <td>221</td>\n",
       "    </tr>\n",
       "    <tr>\n",
       "      <th>2</th>\n",
       "      <td>2014</td>\n",
       "      <td>ACURA</td>\n",
       "      <td>ILX HYBRID</td>\n",
       "      <td>COMPACT</td>\n",
       "      <td>1.5</td>\n",
       "      <td>4</td>\n",
       "      <td>AV7</td>\n",
       "      <td>Z</td>\n",
       "      <td>6.0</td>\n",
       "      <td>5.8</td>\n",
       "      <td>5.9</td>\n",
       "      <td>48</td>\n",
       "      <td>136</td>\n",
       "    </tr>\n",
       "    <tr>\n",
       "      <th>3</th>\n",
       "      <td>2014</td>\n",
       "      <td>ACURA</td>\n",
       "      <td>MDX 4WD</td>\n",
       "      <td>SUV - SMALL</td>\n",
       "      <td>3.5</td>\n",
       "      <td>6</td>\n",
       "      <td>AS6</td>\n",
       "      <td>Z</td>\n",
       "      <td>12.7</td>\n",
       "      <td>9.1</td>\n",
       "      <td>11.1</td>\n",
       "      <td>25</td>\n",
       "      <td>255</td>\n",
       "    </tr>\n",
       "    <tr>\n",
       "      <th>4</th>\n",
       "      <td>2014</td>\n",
       "      <td>ACURA</td>\n",
       "      <td>RDX AWD</td>\n",
       "      <td>SUV - SMALL</td>\n",
       "      <td>3.5</td>\n",
       "      <td>6</td>\n",
       "      <td>AS6</td>\n",
       "      <td>Z</td>\n",
       "      <td>12.1</td>\n",
       "      <td>8.7</td>\n",
       "      <td>10.6</td>\n",
       "      <td>27</td>\n",
       "      <td>244</td>\n",
       "    </tr>\n",
       "  </tbody>\n",
       "</table>\n",
       "</div>"
      ],
      "text/plain": [
       "   MODELYEAR   MAKE       MODEL VEHICLECLASS  ENGINESIZE  CYLINDERS  \\\n",
       "0       2014  ACURA         ILX      COMPACT         2.0          4   \n",
       "1       2014  ACURA         ILX      COMPACT         2.4          4   \n",
       "2       2014  ACURA  ILX HYBRID      COMPACT         1.5          4   \n",
       "3       2014  ACURA     MDX 4WD  SUV - SMALL         3.5          6   \n",
       "4       2014  ACURA     RDX AWD  SUV - SMALL         3.5          6   \n",
       "\n",
       "  TRANSMISSION FUELTYPE  FUELCONSUMPTION_CITY  FUELCONSUMPTION_HWY  \\\n",
       "0          AS5        Z                   9.9                  6.7   \n",
       "1           M6        Z                  11.2                  7.7   \n",
       "2          AV7        Z                   6.0                  5.8   \n",
       "3          AS6        Z                  12.7                  9.1   \n",
       "4          AS6        Z                  12.1                  8.7   \n",
       "\n",
       "   FUELCONSUMPTION_COMB  FUELCONSUMPTION_COMB_MPG  CO2EMISSIONS  \n",
       "0                   8.5                        33           196  \n",
       "1                   9.6                        29           221  \n",
       "2                   5.9                        48           136  \n",
       "3                  11.1                        25           255  \n",
       "4                  10.6                        27           244  "
      ]
     },
     "execution_count": 3,
     "metadata": {},
     "output_type": "execute_result"
    }
   ],
   "source": [
    "df = pd.read_csv(url)\n",
    "df.head()"
   ]
  },
  {
   "cell_type": "markdown",
   "id": "3b202289",
   "metadata": {
    "papermill": {
     "duration": 0.006015,
     "end_time": "2023-10-09T13:54:48.606048",
     "exception": false,
     "start_time": "2023-10-09T13:54:48.600033",
     "status": "completed"
    },
    "tags": []
   },
   "source": [
    "## Data Exploration\n",
    "\n",
    "### Let's first have a descriptive explore on the data:"
   ]
  },
  {
   "cell_type": "code",
   "execution_count": 4,
   "id": "58c65dc4",
   "metadata": {
    "execution": {
     "iopub.execute_input": "2023-10-09T13:54:48.621188Z",
     "iopub.status.busy": "2023-10-09T13:54:48.620503Z",
     "iopub.status.idle": "2023-10-09T13:54:48.655387Z",
     "shell.execute_reply": "2023-10-09T13:54:48.654147Z"
    },
    "papermill": {
     "duration": 0.045317,
     "end_time": "2023-10-09T13:54:48.657947",
     "exception": false,
     "start_time": "2023-10-09T13:54:48.612630",
     "status": "completed"
    },
    "tags": []
   },
   "outputs": [
    {
     "data": {
      "text/html": [
       "<div>\n",
       "<style scoped>\n",
       "    .dataframe tbody tr th:only-of-type {\n",
       "        vertical-align: middle;\n",
       "    }\n",
       "\n",
       "    .dataframe tbody tr th {\n",
       "        vertical-align: top;\n",
       "    }\n",
       "\n",
       "    .dataframe thead th {\n",
       "        text-align: right;\n",
       "    }\n",
       "</style>\n",
       "<table border=\"1\" class=\"dataframe\">\n",
       "  <thead>\n",
       "    <tr style=\"text-align: right;\">\n",
       "      <th></th>\n",
       "      <th>MODELYEAR</th>\n",
       "      <th>ENGINESIZE</th>\n",
       "      <th>CYLINDERS</th>\n",
       "      <th>FUELCONSUMPTION_CITY</th>\n",
       "      <th>FUELCONSUMPTION_HWY</th>\n",
       "      <th>FUELCONSUMPTION_COMB</th>\n",
       "      <th>FUELCONSUMPTION_COMB_MPG</th>\n",
       "      <th>CO2EMISSIONS</th>\n",
       "    </tr>\n",
       "  </thead>\n",
       "  <tbody>\n",
       "    <tr>\n",
       "      <th>count</th>\n",
       "      <td>1067.0</td>\n",
       "      <td>1067.000000</td>\n",
       "      <td>1067.000000</td>\n",
       "      <td>1067.000000</td>\n",
       "      <td>1067.000000</td>\n",
       "      <td>1067.000000</td>\n",
       "      <td>1067.000000</td>\n",
       "      <td>1067.000000</td>\n",
       "    </tr>\n",
       "    <tr>\n",
       "      <th>mean</th>\n",
       "      <td>2014.0</td>\n",
       "      <td>3.346298</td>\n",
       "      <td>5.794752</td>\n",
       "      <td>13.296532</td>\n",
       "      <td>9.474602</td>\n",
       "      <td>11.580881</td>\n",
       "      <td>26.441425</td>\n",
       "      <td>256.228679</td>\n",
       "    </tr>\n",
       "    <tr>\n",
       "      <th>std</th>\n",
       "      <td>0.0</td>\n",
       "      <td>1.415895</td>\n",
       "      <td>1.797447</td>\n",
       "      <td>4.101253</td>\n",
       "      <td>2.794510</td>\n",
       "      <td>3.485595</td>\n",
       "      <td>7.468702</td>\n",
       "      <td>63.372304</td>\n",
       "    </tr>\n",
       "    <tr>\n",
       "      <th>min</th>\n",
       "      <td>2014.0</td>\n",
       "      <td>1.000000</td>\n",
       "      <td>3.000000</td>\n",
       "      <td>4.600000</td>\n",
       "      <td>4.900000</td>\n",
       "      <td>4.700000</td>\n",
       "      <td>11.000000</td>\n",
       "      <td>108.000000</td>\n",
       "    </tr>\n",
       "    <tr>\n",
       "      <th>25%</th>\n",
       "      <td>2014.0</td>\n",
       "      <td>2.000000</td>\n",
       "      <td>4.000000</td>\n",
       "      <td>10.250000</td>\n",
       "      <td>7.500000</td>\n",
       "      <td>9.000000</td>\n",
       "      <td>21.000000</td>\n",
       "      <td>207.000000</td>\n",
       "    </tr>\n",
       "    <tr>\n",
       "      <th>50%</th>\n",
       "      <td>2014.0</td>\n",
       "      <td>3.400000</td>\n",
       "      <td>6.000000</td>\n",
       "      <td>12.600000</td>\n",
       "      <td>8.800000</td>\n",
       "      <td>10.900000</td>\n",
       "      <td>26.000000</td>\n",
       "      <td>251.000000</td>\n",
       "    </tr>\n",
       "    <tr>\n",
       "      <th>75%</th>\n",
       "      <td>2014.0</td>\n",
       "      <td>4.300000</td>\n",
       "      <td>8.000000</td>\n",
       "      <td>15.550000</td>\n",
       "      <td>10.850000</td>\n",
       "      <td>13.350000</td>\n",
       "      <td>31.000000</td>\n",
       "      <td>294.000000</td>\n",
       "    </tr>\n",
       "    <tr>\n",
       "      <th>max</th>\n",
       "      <td>2014.0</td>\n",
       "      <td>8.400000</td>\n",
       "      <td>12.000000</td>\n",
       "      <td>30.200000</td>\n",
       "      <td>20.500000</td>\n",
       "      <td>25.800000</td>\n",
       "      <td>60.000000</td>\n",
       "      <td>488.000000</td>\n",
       "    </tr>\n",
       "  </tbody>\n",
       "</table>\n",
       "</div>"
      ],
      "text/plain": [
       "       MODELYEAR   ENGINESIZE    CYLINDERS  FUELCONSUMPTION_CITY  \\\n",
       "count     1067.0  1067.000000  1067.000000           1067.000000   \n",
       "mean      2014.0     3.346298     5.794752             13.296532   \n",
       "std          0.0     1.415895     1.797447              4.101253   \n",
       "min       2014.0     1.000000     3.000000              4.600000   \n",
       "25%       2014.0     2.000000     4.000000             10.250000   \n",
       "50%       2014.0     3.400000     6.000000             12.600000   \n",
       "75%       2014.0     4.300000     8.000000             15.550000   \n",
       "max       2014.0     8.400000    12.000000             30.200000   \n",
       "\n",
       "       FUELCONSUMPTION_HWY  FUELCONSUMPTION_COMB  FUELCONSUMPTION_COMB_MPG  \\\n",
       "count          1067.000000           1067.000000               1067.000000   \n",
       "mean              9.474602             11.580881                 26.441425   \n",
       "std               2.794510              3.485595                  7.468702   \n",
       "min               4.900000              4.700000                 11.000000   \n",
       "25%               7.500000              9.000000                 21.000000   \n",
       "50%               8.800000             10.900000                 26.000000   \n",
       "75%              10.850000             13.350000                 31.000000   \n",
       "max              20.500000             25.800000                 60.000000   \n",
       "\n",
       "       CO2EMISSIONS  \n",
       "count   1067.000000  \n",
       "mean     256.228679  \n",
       "std       63.372304  \n",
       "min      108.000000  \n",
       "25%      207.000000  \n",
       "50%      251.000000  \n",
       "75%      294.000000  \n",
       "max      488.000000  "
      ]
     },
     "execution_count": 4,
     "metadata": {},
     "output_type": "execute_result"
    }
   ],
   "source": [
    "df.describe()"
   ]
  },
  {
   "cell_type": "markdown",
   "id": "099ae499",
   "metadata": {
    "papermill": {
     "duration": 0.006164,
     "end_time": "2023-10-09T13:54:48.670584",
     "exception": false,
     "start_time": "2023-10-09T13:54:48.664420",
     "status": "completed"
    },
    "tags": []
   },
   "source": [
    "### Exploring some features."
   ]
  },
  {
   "cell_type": "code",
   "execution_count": 5,
   "id": "d54255ed",
   "metadata": {
    "execution": {
     "iopub.execute_input": "2023-10-09T13:54:48.684738Z",
     "iopub.status.busy": "2023-10-09T13:54:48.684382Z",
     "iopub.status.idle": "2023-10-09T13:54:48.705498Z",
     "shell.execute_reply": "2023-10-09T13:54:48.704789Z"
    },
    "papermill": {
     "duration": 0.030387,
     "end_time": "2023-10-09T13:54:48.707295",
     "exception": false,
     "start_time": "2023-10-09T13:54:48.676908",
     "status": "completed"
    },
    "tags": []
   },
   "outputs": [
    {
     "data": {
      "text/html": [
       "<div>\n",
       "<style scoped>\n",
       "    .dataframe tbody tr th:only-of-type {\n",
       "        vertical-align: middle;\n",
       "    }\n",
       "\n",
       "    .dataframe tbody tr th {\n",
       "        vertical-align: top;\n",
       "    }\n",
       "\n",
       "    .dataframe thead th {\n",
       "        text-align: right;\n",
       "    }\n",
       "</style>\n",
       "<table border=\"1\" class=\"dataframe\">\n",
       "  <thead>\n",
       "    <tr style=\"text-align: right;\">\n",
       "      <th></th>\n",
       "      <th>ENGINESIZE</th>\n",
       "      <th>CYLINDERS</th>\n",
       "      <th>FUELCONSUMPTION_COMB</th>\n",
       "      <th>CO2EMISSIONS</th>\n",
       "    </tr>\n",
       "  </thead>\n",
       "  <tbody>\n",
       "    <tr>\n",
       "      <th>0</th>\n",
       "      <td>2.0</td>\n",
       "      <td>4</td>\n",
       "      <td>8.5</td>\n",
       "      <td>196</td>\n",
       "    </tr>\n",
       "    <tr>\n",
       "      <th>1</th>\n",
       "      <td>2.4</td>\n",
       "      <td>4</td>\n",
       "      <td>9.6</td>\n",
       "      <td>221</td>\n",
       "    </tr>\n",
       "    <tr>\n",
       "      <th>2</th>\n",
       "      <td>1.5</td>\n",
       "      <td>4</td>\n",
       "      <td>5.9</td>\n",
       "      <td>136</td>\n",
       "    </tr>\n",
       "    <tr>\n",
       "      <th>3</th>\n",
       "      <td>3.5</td>\n",
       "      <td>6</td>\n",
       "      <td>11.1</td>\n",
       "      <td>255</td>\n",
       "    </tr>\n",
       "    <tr>\n",
       "      <th>4</th>\n",
       "      <td>3.5</td>\n",
       "      <td>6</td>\n",
       "      <td>10.6</td>\n",
       "      <td>244</td>\n",
       "    </tr>\n",
       "    <tr>\n",
       "      <th>5</th>\n",
       "      <td>3.5</td>\n",
       "      <td>6</td>\n",
       "      <td>10.0</td>\n",
       "      <td>230</td>\n",
       "    </tr>\n",
       "    <tr>\n",
       "      <th>6</th>\n",
       "      <td>3.5</td>\n",
       "      <td>6</td>\n",
       "      <td>10.1</td>\n",
       "      <td>232</td>\n",
       "    </tr>\n",
       "    <tr>\n",
       "      <th>7</th>\n",
       "      <td>3.7</td>\n",
       "      <td>6</td>\n",
       "      <td>11.1</td>\n",
       "      <td>255</td>\n",
       "    </tr>\n",
       "    <tr>\n",
       "      <th>8</th>\n",
       "      <td>3.7</td>\n",
       "      <td>6</td>\n",
       "      <td>11.6</td>\n",
       "      <td>267</td>\n",
       "    </tr>\n",
       "  </tbody>\n",
       "</table>\n",
       "</div>"
      ],
      "text/plain": [
       "   ENGINESIZE  CYLINDERS  FUELCONSUMPTION_COMB  CO2EMISSIONS\n",
       "0         2.0          4                   8.5           196\n",
       "1         2.4          4                   9.6           221\n",
       "2         1.5          4                   5.9           136\n",
       "3         3.5          6                  11.1           255\n",
       "4         3.5          6                  10.6           244\n",
       "5         3.5          6                  10.0           230\n",
       "6         3.5          6                  10.1           232\n",
       "7         3.7          6                  11.1           255\n",
       "8         3.7          6                  11.6           267"
      ]
     },
     "execution_count": 5,
     "metadata": {},
     "output_type": "execute_result"
    }
   ],
   "source": [
    "cdf = df[['ENGINESIZE','CYLINDERS','FUELCONSUMPTION_COMB','CO2EMISSIONS']]\n",
    "cdf.head(9)"
   ]
  },
  {
   "cell_type": "code",
   "execution_count": 6,
   "id": "d7517352",
   "metadata": {
    "execution": {
     "iopub.execute_input": "2023-10-09T13:54:48.722319Z",
     "iopub.status.busy": "2023-10-09T13:54:48.721679Z",
     "iopub.status.idle": "2023-10-09T13:54:49.414263Z",
     "shell.execute_reply": "2023-10-09T13:54:49.413176Z"
    },
    "papermill": {
     "duration": 0.702726,
     "end_time": "2023-10-09T13:54:49.416595",
     "exception": false,
     "start_time": "2023-10-09T13:54:48.713869",
     "status": "completed"
    },
    "tags": []
   },
   "outputs": [
    {
     "data": {
      "image/png": "[encoded data removed]",
      "text/plain": [
       "<Figure size 640x480 with 4 Axes>"
      ]
     },
     "metadata": {},
     "output_type": "display_data"
    }
   ],
   "source": [
    "viz = cdf[['ENGINESIZE','CYLINDERS','FUELCONSUMPTION_COMB','CO2EMISSIONS']] # making a array of features\n",
    "viz.hist() # making a histogram of the array\n",
    "plt.show()"
   ]
  },
  {
   "cell_type": "markdown",
   "id": "bc31fa3b",
   "metadata": {
    "papermill": {
     "duration": 0.006866,
     "end_time": "2023-10-09T13:54:49.430718",
     "exception": false,
     "start_time": "2023-10-09T13:54:49.423852",
     "status": "completed"
    },
    "tags": []
   },
   "source": [
    "Let's split our dataset into train and test sets. 80% of the entire dataset will be used for training and 20% for testing. We create a mask to select random rows using __np.random.rand()__ function:"
   ]
  },
  {
   "cell_type": "code",
   "execution_count": 7,
   "id": "a10ee52e",
   "metadata": {
    "execution": {
     "iopub.execute_input": "2023-10-09T13:54:49.446848Z",
     "iopub.status.busy": "2023-10-09T13:54:49.446499Z",
     "iopub.status.idle": "2023-10-09T13:54:49.452843Z",
     "shell.execute_reply": "2023-10-09T13:54:49.451752Z"
    },
    "papermill": {
     "duration": 0.016841,
     "end_time": "2023-10-09T13:54:49.454929",
     "exception": false,
     "start_time": "2023-10-09T13:54:49.438088",
     "status": "completed"
    },
    "tags": []
   },
   "outputs": [],
   "source": [
    "msk = np.random.rand(len(df)) < 0.8 # this line is creating a mask, selecting random number and assigning to bool True just for 0.8 of the data (80% of it)\n",
    "train = cdf[msk] # this variable corresponds to 80% of the data for training\n",
    "test = cdf[~msk] # this variable corresponds to 20% of the data for testing"
   ]
  },
  {
   "cell_type": "markdown",
   "id": "1e0669ba",
   "metadata": {
    "papermill": {
     "duration": 0.006885,
     "end_time": "2023-10-09T13:54:49.469044",
     "exception": false,
     "start_time": "2023-10-09T13:54:49.462159",
     "status": "completed"
    },
    "tags": []
   },
   "source": [
    "### Simple Linear Regression\n",
    "Utilizing the feature `engine size` as a predictor and the 'CO² emissions as the `response variable`\n"
   ]
  },
  {
   "cell_type": "code",
   "execution_count": 8,
   "id": "9f242e3f",
   "metadata": {
    "execution": {
     "iopub.execute_input": "2023-10-09T13:54:49.485033Z",
     "iopub.status.busy": "2023-10-09T13:54:49.484705Z",
     "iopub.status.idle": "2023-10-09T13:54:51.071064Z",
     "shell.execute_reply": "2023-10-09T13:54:51.069499Z"
    },
    "papermill": {
     "duration": 1.59739,
     "end_time": "2023-10-09T13:54:51.073484",
     "exception": false,
     "start_time": "2023-10-09T13:54:49.476094",
     "status": "completed"
    },
    "tags": []
   },
   "outputs": [
    {
     "name": "stdout",
     "output_type": "stream",
     "text": [
      "Seaborn version 0.12.2\n"
     ]
    }
   ],
   "source": [
    "import seaborn as sns\n",
    "print(\"Seaborn version\", sns.__version__)"
   ]
  },
  {
   "cell_type": "markdown",
   "id": "05ee3805",
   "metadata": {
    "papermill": {
     "duration": 0.006935,
     "end_time": "2023-10-09T13:54:51.087793",
     "exception": false,
     "start_time": "2023-10-09T13:54:51.080858",
     "status": "completed"
    },
    "tags": []
   },
   "source": [
    "Plotting a graph showing how the engine size (x-axis) relates to `CO2 emissions` (y-axis) using the data from the `train` dataset. It visualizes this relationship."
   ]
  },
  {
   "cell_type": "code",
   "execution_count": 9,
   "id": "90fc93e9",
   "metadata": {
    "execution": {
     "iopub.execute_input": "2023-10-09T13:54:51.104253Z",
     "iopub.status.busy": "2023-10-09T13:54:51.103658Z",
     "iopub.status.idle": "2023-10-09T13:54:51.516592Z",
     "shell.execute_reply": "2023-10-09T13:54:51.515539Z"
    },
    "papermill": {
     "duration": 0.423797,
     "end_time": "2023-10-09T13:54:51.519077",
     "exception": false,
     "start_time": "2023-10-09T13:54:51.095280",
     "status": "completed"
    },
    "tags": []
   },
   "outputs": [
    {
     "data": {
      "image/png": "[encoded data removed]",
      "text/plain": [
       "<Figure size 640x480 with 1 Axes>"
      ]
     },
     "metadata": {},
     "output_type": "display_data"
    }
   ],
   "source": [
    "sns.regplot(x=\"ENGINESIZE\", y=\"CO2EMISSIONS\", data=train)\n",
    "plt.show()"
   ]
  },
  {
   "cell_type": "markdown",
   "id": "04331d7c",
   "metadata": {
    "papermill": {
     "duration": 0.008029,
     "end_time": "2023-10-09T13:54:51.536327",
     "exception": false,
     "start_time": "2023-10-09T13:54:51.528298",
     "status": "completed"
    },
    "tags": []
   },
   "source": [
    "## Modeling"
   ]
  },
  {
   "cell_type": "code",
   "execution_count": 10,
   "id": "25b078c7",
   "metadata": {
    "execution": {
     "iopub.execute_input": "2023-10-09T13:54:51.554424Z",
     "iopub.status.busy": "2023-10-09T13:54:51.553934Z",
     "iopub.status.idle": "2023-10-09T13:54:51.946349Z",
     "shell.execute_reply": "2023-10-09T13:54:51.945190Z"
    },
    "papermill": {
     "duration": 0.404865,
     "end_time": "2023-10-09T13:54:51.949319",
     "exception": false,
     "start_time": "2023-10-09T13:54:51.544454",
     "status": "completed"
    },
    "tags": []
   },
   "outputs": [],
   "source": [
    "from sklearn import linear_model"
   ]
  },
  {
   "cell_type": "markdown",
   "id": "5d627a98",
   "metadata": {
    "papermill": {
     "duration": 0.008136,
     "end_time": "2023-10-09T13:54:51.966066",
     "exception": false,
     "start_time": "2023-10-09T13:54:51.957930",
     "status": "completed"
    },
    "tags": []
   },
   "source": [
    "### Fitting the trainning set to a Linear Regression model: `y_train = intercept + coefficient.x_train`\n",
    "\n",
    "In simple linear regression, we have a line that represents a relationship between two things. The Coefficient and Intercept are just two numbers that describe this line. \n",
    "\n",
    "When we use a tool like `scikit-learn` (sklearn), it can figure out these numbers for us from the data we have. But, it needs all of the data to do this properly because it's like drawing the best-fitting line through all the points, and you need to see all the points to draw it correctly."
   ]
  },
  {
   "cell_type": "code",
   "execution_count": 11,
   "id": "64bf1354",
   "metadata": {
    "execution": {
     "iopub.execute_input": "2023-10-09T13:54:51.985008Z",
     "iopub.status.busy": "2023-10-09T13:54:51.984388Z",
     "iopub.status.idle": "2023-10-09T13:54:52.011133Z",
     "shell.execute_reply": "2023-10-09T13:54:52.009474Z"
    },
    "papermill": {
     "duration": 0.038953,
     "end_time": "2023-10-09T13:54:52.013505",
     "exception": false,
     "start_time": "2023-10-09T13:54:51.974552",
     "status": "completed"
    },
    "tags": []
   },
   "outputs": [
    {
     "name": "stdout",
     "output_type": "stream",
     "text": [
      "Coefficient:  38.81\n",
      "Intercept: 126.49\n"
     ]
    }
   ],
   "source": [
    "reg = linear_model.LinearRegression() # creating a Linear Regression object\n",
    "train_x = np.asanyarray(train[['ENGINESIZE']])\n",
    "train_y = np.asanyarray(train[['CO2EMISSIONS']])\n",
    "reg.fit(train_x, train_y)\n",
    "print(\"Coefficient: \", round(float(reg.coef_), 2))\n",
    "print(\"Intercept:\", round(float(reg.intercept_), 2))"
   ]
  },
  {
   "cell_type": "markdown",
   "id": "bcf9ee72",
   "metadata": {
    "papermill": {
     "duration": 0.00771,
     "end_time": "2023-10-09T13:54:52.029627",
     "exception": false,
     "start_time": "2023-10-09T13:54:52.021917",
     "status": "completed"
    },
    "tags": []
   },
   "source": [
    "When we want to know how good or bad our regression model is, we use evaluation metrics such as `Mean Absolute Error (MAE)`, `Mean Squared Error (MSE)`, `Root Mean Squared Error (RMSE)`. These metrics help us figure out where our model is doing well and where it's not.\n",
    "\n"
   ]
  },
  {
   "cell_type": "markdown",
   "id": "548f8569",
   "metadata": {
    "papermill": {
     "duration": 0.007614,
     "end_time": "2023-10-09T13:54:52.045262",
     "exception": false,
     "start_time": "2023-10-09T13:54:52.037648",
     "status": "completed"
    },
    "tags": []
   },
   "source": [
    "When we want to know how good or bad our regression model is, we use evaluation metrics. These metrics help us figure out where our model is doing well and where it's not."
   ]
  },
  {
   "cell_type": "code",
   "execution_count": 12,
   "id": "cf8d5168",
   "metadata": {
    "execution": {
     "iopub.execute_input": "2023-10-09T13:54:52.063324Z",
     "iopub.status.busy": "2023-10-09T13:54:52.062645Z",
     "iopub.status.idle": "2023-10-09T13:54:52.070732Z",
     "shell.execute_reply": "2023-10-09T13:54:52.069661Z"
    },
    "papermill": {
     "duration": 0.019308,
     "end_time": "2023-10-09T13:54:52.072676",
     "exception": false,
     "start_time": "2023-10-09T13:54:52.053368",
     "status": "completed"
    },
    "tags": []
   },
   "outputs": [
    {
     "name": "stdout",
     "output_type": "stream",
     "text": [
      "Mean absolute error (MAE): 26.10\n",
      "Residual sum of squares (MSE): 1149.67\n"
     ]
    }
   ],
   "source": [
    "from sklearn.metrics import r2_score\n",
    "\n",
    "test_x = np.asanyarray(test[['ENGINESIZE']])\n",
    "test_y = np.asanyarray(test[['CO2EMISSIONS']])\n",
    "predicted_y = reg.predict(test_x)\n",
    "\n",
    "print(\"Mean absolute error (MAE): %.2f\" % np.mean(np.absolute(predicted_y - test_y)))\n",
    "print(\"Residual sum of squares (MSE): %.2f\" % np.mean((predicted_y - test_y) **2))"
   ]
  },
  {
   "cell_type": "markdown",
   "id": "31d63c29",
   "metadata": {
    "papermill": {
     "duration": 0.007783,
     "end_time": "2023-10-09T13:54:52.088767",
     "exception": false,
     "start_time": "2023-10-09T13:54:52.080984",
     "status": "completed"
    },
    "tags": []
   },
   "source": [
    "R-squared: This doesn't measure errors directly, but it tells us how well our model fits the data. If R-squared is close to 1, our model is doing a good job. If it's negative, our model is worse than just guessing with an average value."
   ]
  },
  {
   "cell_type": "code",
   "execution_count": 13,
   "id": "ee54c070",
   "metadata": {
    "execution": {
     "iopub.execute_input": "2023-10-09T13:54:52.107649Z",
     "iopub.status.busy": "2023-10-09T13:54:52.106961Z",
     "iopub.status.idle": "2023-10-09T13:54:52.112994Z",
     "shell.execute_reply": "2023-10-09T13:54:52.111668Z"
    },
    "papermill": {
     "duration": 0.017559,
     "end_time": "2023-10-09T13:54:52.115089",
     "exception": false,
     "start_time": "2023-10-09T13:54:52.097530",
     "status": "completed"
    },
    "tags": []
   },
   "outputs": [
    {
     "name": "stdout",
     "output_type": "stream",
     "text": [
      "R²-score: 0.74\n"
     ]
    }
   ],
   "source": [
    "print(\"R²-score: %.2f\" % r2_score(test_y, predicted_y))"
   ]
  },
  {
   "cell_type": "markdown",
   "id": "50e75c36",
   "metadata": {
    "papermill": {
     "duration": 0.008406,
     "end_time": "2023-10-09T13:54:52.131843",
     "exception": false,
     "start_time": "2023-10-09T13:54:52.123437",
     "status": "completed"
    },
    "tags": []
   },
   "source": [
    "Training a `Regression Model` using `FUELCONSUMPTION_COMB` feature."
   ]
  },
  {
   "cell_type": "code",
   "execution_count": 14,
   "id": "fb5184d0",
   "metadata": {
    "execution": {
     "iopub.execute_input": "2023-10-09T13:54:52.150627Z",
     "iopub.status.busy": "2023-10-09T13:54:52.149399Z",
     "iopub.status.idle": "2023-10-09T13:54:52.156690Z",
     "shell.execute_reply": "2023-10-09T13:54:52.155804Z"
    },
    "papermill": {
     "duration": 0.01867,
     "end_time": "2023-10-09T13:54:52.158747",
     "exception": false,
     "start_time": "2023-10-09T13:54:52.140077",
     "status": "completed"
    },
    "tags": []
   },
   "outputs": [],
   "source": [
    "train_x = train[['FUELCONSUMPTION_COMB']]\n",
    "test_x = test[['FUELCONSUMPTION_COMB']]"
   ]
  },
  {
   "cell_type": "code",
   "execution_count": 15,
   "id": "6a8f58d2",
   "metadata": {
    "execution": {
     "iopub.execute_input": "2023-10-09T13:54:52.177559Z",
     "iopub.status.busy": "2023-10-09T13:54:52.177157Z",
     "iopub.status.idle": "2023-10-09T13:54:52.611665Z",
     "shell.execute_reply": "2023-10-09T13:54:52.610428Z"
    },
    "papermill": {
     "duration": 0.446247,
     "end_time": "2023-10-09T13:54:52.613759",
     "exception": false,
     "start_time": "2023-10-09T13:54:52.167512",
     "status": "completed"
    },
    "tags": []
   },
   "outputs": [
    {
     "name": "stdout",
     "output_type": "stream",
     "text": [
      "Coefficient:  16.01\n",
      "Intercept: 70.8\n",
      "Axes(0.125,0.11;0.775x0.77)\n"
     ]
    },
    {
     "data": {
      "image/png": "[encoded data removed]",
      "text/plain": [
       "<Figure size 640x480 with 1 Axes>"
      ]
     },
     "metadata": {},
     "output_type": "display_data"
    }
   ],
   "source": [
    "train_x = np.asanyarray(train_x)\n",
    "reg.fit(train_x, train_y)\n",
    "print(\"Coefficient: \", round(float(reg.coef_), 2))\n",
    "print(\"Intercept:\", round(float(reg.intercept_), 2))\n",
    "\n",
    "print(sns.regplot(x=\"FUELCONSUMPTION_COMB\", y=\"CO2EMISSIONS\", data=train))"
   ]
  },
  {
   "cell_type": "code",
   "execution_count": 16,
   "id": "3269329c",
   "metadata": {
    "execution": {
     "iopub.execute_input": "2023-10-09T13:54:52.633890Z",
     "iopub.status.busy": "2023-10-09T13:54:52.633528Z",
     "iopub.status.idle": "2023-10-09T13:54:52.642272Z",
     "shell.execute_reply": "2023-10-09T13:54:52.640900Z"
    },
    "papermill": {
     "duration": 0.021781,
     "end_time": "2023-10-09T13:54:52.644697",
     "exception": false,
     "start_time": "2023-10-09T13:54:52.622916",
     "status": "completed"
    },
    "tags": []
   },
   "outputs": [
    {
     "name": "stdout",
     "output_type": "stream",
     "text": [
      "The Mean Absolute Error is 21.09\n",
      "The R-squared score is 0.81\n"
     ]
    }
   ],
   "source": [
    "predictions = reg.predict(test_x)\n",
    "print(\"The Mean Absolute Error is %.2f\" % np.mean(np.absolute(predictions - test_y)))\n",
    "print(\"The R-squared score is %.2f\" % r2_score(test_y, predictions))"
   ]
  },
  {
   "cell_type": "markdown",
   "id": "eaa1128d",
   "metadata": {
    "papermill": {
     "duration": 0.009872,
     "end_time": "2023-10-09T13:54:52.663895",
     "exception": false,
     "start_time": "2023-10-09T13:54:52.654023",
     "status": "completed"
    },
    "tags": []
   },
   "source": [
    "### Multiple Regression Model\n",
    "In reality, there are multiple variables that impact the co2emission. When more than one independent variable is present, the process is called multiple linear regression. An example of multiple linear regression is predicting co2emission using the features FUELCONSUMPTION_COMB, EngineSize and Cylinders of cars. The good thing here is that multiple linear regression model is the extension of the simple linear regression model."
   ]
  },
  {
   "cell_type": "code",
   "execution_count": 17,
   "id": "38448c16",
   "metadata": {
    "execution": {
     "iopub.execute_input": "2023-10-09T13:54:52.685610Z",
     "iopub.status.busy": "2023-10-09T13:54:52.685106Z",
     "iopub.status.idle": "2023-10-09T13:54:52.706442Z",
     "shell.execute_reply": "2023-10-09T13:54:52.705210Z"
    },
    "papermill": {
     "duration": 0.034137,
     "end_time": "2023-10-09T13:54:52.708512",
     "exception": false,
     "start_time": "2023-10-09T13:54:52.674375",
     "status": "completed"
    },
    "tags": []
   },
   "outputs": [
    {
     "name": "stdout",
     "output_type": "stream",
     "text": [
      "Coefficients:  [[11.40709925  7.60592661  9.12804833]]\n"
     ]
    }
   ],
   "source": [
    "x = np.asanyarray(train[['ENGINESIZE','CYLINDERS','FUELCONSUMPTION_COMB']])\n",
    "y = np.asanyarray(train[['CO2EMISSIONS']])\n",
    "reg.fit(x, y)\n",
    "print(\"Coefficients: \", reg.coef_)"
   ]
  },
  {
   "cell_type": "markdown",
   "id": "42ba8dd8",
   "metadata": {
    "papermill": {
     "duration": 0.008958,
     "end_time": "2023-10-09T13:54:52.726556",
     "exception": false,
     "start_time": "2023-10-09T13:54:52.717598",
     "status": "completed"
    },
    "tags": []
   },
   "source": [
    "Calculating estimated target output ($\\hat{y}$) \\\n",
    "$\\texttt{explainedVariance}(y, \\hat{y}) = 1 - \\frac{Var\\{ y - \\hat{y}\\}}{Var\\{y\\}}$  "
   ]
  },
  {
   "cell_type": "code",
   "execution_count": 18,
   "id": "73f3dcd6",
   "metadata": {
    "execution": {
     "iopub.execute_input": "2023-10-09T13:54:52.746537Z",
     "iopub.status.busy": "2023-10-09T13:54:52.746120Z",
     "iopub.status.idle": "2023-10-09T13:54:52.759372Z",
     "shell.execute_reply": "2023-10-09T13:54:52.758241Z"
    },
    "papermill": {
     "duration": 0.026057,
     "end_time": "2023-10-09T13:54:52.761654",
     "exception": false,
     "start_time": "2023-10-09T13:54:52.735597",
     "status": "completed"
    },
    "tags": []
   },
   "outputs": [
    {
     "name": "stdout",
     "output_type": "stream",
     "text": [
      "Residual sum of squares: 606.75\n",
      "Variance score: 0.86\n"
     ]
    }
   ],
   "source": [
    "y_hat = reg.predict(test[['ENGINESIZE','CYLINDERS','FUELCONSUMPTION_COMB']])\n",
    "x = np.asanyarray(test[['ENGINESIZE','CYLINDERS','FUELCONSUMPTION_COMB']])\n",
    "y = np.asanyarray(test[['CO2EMISSIONS']])\n",
    "print(\"Residual sum of squares: %.2f\" % np.mean((y_hat - y) **2))\n",
    "\n",
    "# Explained variance score: 1 is perfect prediction\n",
    "print('Variance score: %.2f' % reg.score(x, y))"
   ]
  },
  {
   "cell_type": "markdown",
   "id": "68fcf69c",
   "metadata": {
    "papermill": {
     "duration": 0.009127,
     "end_time": "2023-10-09T13:54:52.841637",
     "exception": false,
     "start_time": "2023-10-09T13:54:52.832510",
     "status": "completed"
    },
    "tags": []
   },
   "source": [
    "With the result of the Variance Score = `0.87` we can say the MLR model is a better fit than SLR for this problem."
   ]
  }
 ],
 "metadata": {
  "kernelspec": {
   "display_name": "Python 3",
   "language": "python",
   "name": "python3"
  },
  "language_info": {
   "codemirror_mode": {
    "name": "ipython",
    "version": 3
   },
   "file_extension": ".py",
   "mimetype": "text/x-python",
   "name": "python",
   "nbconvert_exporter": "python",
   "pygments_lexer": "ipython3",
   "version": "3.10.11"
  },
  "papermill": {
   "default_parameters": {},
   "duration": 10.181985,
   "end_time": "2023-10-09T13:54:53.572464",
   "environment_variables": {},
   "exception": null,
   "input_path": "__notebook__.ipynb",
   "output_path": "__notebook__.ipynb",
   "parameters": {},
   "start_time": "2023-10-09T13:54:43.390479",
   "version": "2.4.0"
  }
 },
 "nbformat": 4,
 "nbformat_minor": 5
}
